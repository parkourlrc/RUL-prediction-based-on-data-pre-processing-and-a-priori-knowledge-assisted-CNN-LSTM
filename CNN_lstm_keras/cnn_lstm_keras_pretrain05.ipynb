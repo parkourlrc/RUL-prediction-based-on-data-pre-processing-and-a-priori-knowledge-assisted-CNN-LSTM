{
 "cells": [
  {
   "cell_type": "code",
   "execution_count": 65,
   "metadata": {},
   "outputs": [],
   "source": [
    "import missingno as msno\n",
    "import pandas as pd\n",
    "import math\n",
    "from sklearn.preprocessing import MinMaxScaler\n",
    "import numpy as np\n",
    "import tensorflow as tf\n",
    "from tensorflow import keras\n",
    "import matplotlib.pyplot as plt\n",
    "from keras.models import Sequential,load_model\n",
    "from keras.layers import Dense, Dropout, LSTM, Conv1D, GlobalAveragePooling1D, MaxPooling1D"
   ]
  },
  {
   "cell_type": "markdown",
   "metadata": {},
   "source": [
    "导入数据集+选择处理所用数据（选择我们使用数据的哪一列）+构建训练集、测试集(预训练时，百分之  的数据作为训练集；实际预测时，百分之  的数据用作训练集（很小的量，符合工程实际）)"
   ]
  },
  {
   "cell_type": "code",
   "execution_count": 115,
   "metadata": {},
   "outputs": [
    {
     "name": "stdout",
     "output_type": "stream",
     "text": [
      "   rongliang\n",
      "0   1.853511\n",
      "1   1.853466\n",
      "2   1.853316\n",
      "3   1.853061\n",
      "4   1.852708\n",
      "5   1.852266\n"
     ]
    },
    {
     "data": {
      "image/png": "[encoded data removed]",
      "text/plain": [
       "<Figure size 432x288 with 1 Axes>"
      ]
     },
     "metadata": {
      "needs_background": "light"
     },
     "output_type": "display_data"
    },
    {
     "data": {
      "text/plain": [
       "(2011, 1)"
      ]
     },
     "execution_count": 115,
     "metadata": {},
     "output_type": "execute_result"
    },
    {
     "data": {
      "image/png": "[encoded data removed]",
      "text/plain": [
       "<Figure size 1800x720 with 2 Axes>"
      ]
     },
     "metadata": {
      "needs_background": "light"
     },
     "output_type": "display_data"
    }
   ],
   "source": [
    "#df = pd.read_csv(\"B18rongliang.csv\", index_col='日期')\n",
    "df=pd.read_excel(\"./汇总/IMF5到RES/B05.xls\")\n",
    "print(df.head(6))   #输出前六行的内容\n",
    "plt.plot(df)\n",
    "plt.show()\n",
    "\n",
    "msno.matrix(df)\n",
    "\n",
    "data = df.sort_index(ascending=True, axis=0)\n",
    "##只使用股票的收盘价来进行拟合和预测\n",
    "#dataset=data[['rongliang']].values\n",
    "dataset=data.values\n",
    "\n",
    "data.head()\n",
    "data.shape\n",
    "dataset.shape\n",
    "\n",
    "                                                                                    #\n",
    "#取80%的数据作为训练集\n",
    "training_data_len=math.ceil(len(dataset)*.8)\n",
    "train_data=dataset[0:training_data_len,:]\n",
    "#取剩下的数据作为测试集\n",
    "#在做预测时，余下的数据的第一个数据，需要前60*200轮的数据来预测，因此这倒溯了60*200天\n",
    "test_data = dataset[training_data_len-60: , : ]\n",
    "                                                                                    #\n",
    "\n",
    "scaler = MinMaxScaler(feature_range=(0,1))\n",
    "scaled_train = scaler.fit_transform(train_data)\n",
    "scaled_test = scaler.fit_transform(test_data)\n",
    "scaled_train\n",
    "scaled_test.shape\n",
    "scaled_train.shape"
   ]
  },
  {
   "cell_type": "markdown",
   "metadata": {},
   "source": [
    "训练集、测试集的重构"
   ]
  },
  {
   "cell_type": "code",
   "execution_count": 116,
   "metadata": {},
   "outputs": [],
   "source": [
    "#训练集的重构\n",
    "#1 分离x和y\n",
    "x_train=[]\n",
    "y_train=[]\n",
    "                                                                        #\n",
    "#for i in range(60,len(scaled_train)-10):\n",
    "#    x_train.append(scaled_train[i-60:i,0])\n",
    "#    y_train.append(scaled_train[i+10,0])\n",
    "for i in range(60,len(scaled_train)):\n",
    "    x_train.append(scaled_train[i-60:i,0])\n",
    "    y_train.append(scaled_train[i,0])\n",
    "                                                                        #\n",
    "#2 将list类型数据转变成array数据\n",
    "x_train,y_train=np.array(x_train),np.array(y_train)\n",
    "\n",
    "#3 将二维数据变成三维数据\n",
    "x_train=np.reshape(x_train,(x_train.shape[0],x_train.shape[1],1))\n",
    "\n",
    "x_train.shape\n",
    "\n",
    "#测试集的重构\n",
    "#1 分离x和y\n",
    "x_test = []\n",
    "                                                                        #\n",
    "#y_test = dataset[training_data_len+10: , : ] \n",
    "#for i in range(60,len(scaled_test)-10):\n",
    "#    x_test.append(scaled_test[i-60:i,0])\n",
    "y_test = dataset[training_data_len: , : ] \n",
    "for i in range(60,len(scaled_test)):\n",
    "    x_test.append(scaled_test[i-60:i,0])\n",
    "                                                                        #\n",
    "#2 将list类型数据转变成array数据\n",
    "x_test = np.array(x_test)\n",
    "#3 将二维数据变成三维数据\n",
    "x_test = np.reshape(x_test, (x_test.shape[0],x_test.shape[1],1))\n",
    "\n",
    "x_test.shape\n",
    "\n",
    "model = tf.keras.models.Sequential()"
   ]
  },
  {
   "cell_type": "markdown",
   "metadata": {},
   "source": [
    "构建模型"
   ]
  },
  {
   "cell_type": "code",
   "execution_count": 117,
   "metadata": {},
   "outputs": [
    {
     "name": "stdout",
     "output_type": "stream",
     "text": [
      "Model: \"sequential_31\"\n",
      "_________________________________________________________________\n",
      " Layer (type)                Output Shape              Param #   \n",
      "=================================================================\n",
      " conv1d_15 (Conv1D)          (None, 60, 10)            20        \n",
      "                                                                 \n",
      " max_pooling1d_15 (MaxPoolin  (None, 60, 10)           0         \n",
      " g1D)                                                            \n",
      "                                                                 \n",
      " lstm_30 (LSTM)              (None, 60, 100)           44400     \n",
      "                                                                 \n",
      " lstm_31 (LSTM)              (None, 100)               80400     \n",
      "                                                                 \n",
      " dropout_15 (Dropout)        (None, 100)               0         \n",
      "                                                                 \n",
      " dense_15 (Dense)            (None, 1)                 101       \n",
      "                                                                 \n",
      "=================================================================\n",
      "Total params: 124,921\n",
      "Trainable params: 124,921\n",
      "Non-trainable params: 0\n",
      "_________________________________________________________________\n",
      "Epoch 1/60\n",
      "79/79 [==============================] - 9s 35ms/step - loss: 0.0152\n",
      "Epoch 2/60\n",
      "79/79 [==============================] - 3s 33ms/step - loss: 9.8099e-04\n",
      "Epoch 3/60\n",
      "79/79 [==============================] - 3s 34ms/step - loss: 8.3351e-04\n",
      "Epoch 4/60\n",
      "79/79 [==============================] - 3s 33ms/step - loss: 9.1648e-04\n",
      "Epoch 5/60\n",
      "79/79 [==============================] - 3s 34ms/step - loss: 8.0204e-04\n",
      "Epoch 6/60\n",
      "79/79 [==============================] - 3s 34ms/step - loss: 6.5276e-04\n",
      "Epoch 7/60\n",
      "79/79 [==============================] - 3s 35ms/step - loss: 9.5755e-04\n",
      "Epoch 8/60\n",
      "79/79 [==============================] - 3s 34ms/step - loss: 7.2851e-04\n",
      "Epoch 9/60\n",
      "79/79 [==============================] - 3s 34ms/step - loss: 0.0011\n",
      "Epoch 10/60\n",
      "79/79 [==============================] - 3s 34ms/step - loss: 6.0881e-04\n",
      "Epoch 11/60\n",
      "79/79 [==============================] - 3s 34ms/step - loss: 6.0191e-04\n",
      "Epoch 12/60\n",
      "79/79 [==============================] - 3s 34ms/step - loss: 5.5075e-04\n",
      "Epoch 13/60\n",
      "79/79 [==============================] - 3s 34ms/step - loss: 6.6653e-04\n",
      "Epoch 14/60\n",
      "79/79 [==============================] - 3s 34ms/step - loss: 6.4371e-04\n",
      "Epoch 15/60\n",
      "79/79 [==============================] - 3s 35ms/step - loss: 6.0732e-04\n",
      "Epoch 16/60\n",
      "79/79 [==============================] - 3s 35ms/step - loss: 5.4170e-04\n",
      "Epoch 17/60\n",
      "79/79 [==============================] - 3s 34ms/step - loss: 5.7398e-04\n",
      "Epoch 18/60\n",
      "79/79 [==============================] - 3s 34ms/step - loss: 5.5777e-04\n",
      "Epoch 19/60\n",
      "79/79 [==============================] - 3s 34ms/step - loss: 5.4233e-04\n",
      "Epoch 20/60\n",
      "79/79 [==============================] - 3s 34ms/step - loss: 5.4047e-04\n",
      "Epoch 21/60\n",
      "79/79 [==============================] - 3s 34ms/step - loss: 5.0453e-04\n",
      "Epoch 22/60\n",
      "79/79 [==============================] - 3s 34ms/step - loss: 7.1394e-04\n",
      "Epoch 23/60\n",
      "79/79 [==============================] - 3s 34ms/step - loss: 5.1295e-04\n",
      "Epoch 24/60\n",
      "79/79 [==============================] - 3s 34ms/step - loss: 5.5099e-04\n",
      "Epoch 25/60\n",
      "79/79 [==============================] - 3s 34ms/step - loss: 4.5306e-04\n",
      "Epoch 26/60\n",
      "79/79 [==============================] - 3s 34ms/step - loss: 5.4124e-04\n",
      "Epoch 27/60\n",
      "79/79 [==============================] - 3s 34ms/step - loss: 5.1845e-04\n",
      "Epoch 28/60\n",
      "79/79 [==============================] - 3s 34ms/step - loss: 4.8553e-04\n",
      "Epoch 29/60\n",
      "79/79 [==============================] - 3s 34ms/step - loss: 5.4938e-04\n",
      "Epoch 30/60\n",
      "79/79 [==============================] - 3s 34ms/step - loss: 5.3109e-04\n",
      "Epoch 31/60\n",
      "79/79 [==============================] - 3s 34ms/step - loss: 4.6844e-04\n",
      "Epoch 32/60\n",
      "79/79 [==============================] - 3s 34ms/step - loss: 4.6326e-04\n",
      "Epoch 33/60\n",
      "79/79 [==============================] - 3s 34ms/step - loss: 4.6998e-04\n",
      "Epoch 34/60\n",
      "79/79 [==============================] - 3s 34ms/step - loss: 4.5073e-04\n",
      "Epoch 35/60\n",
      "79/79 [==============================] - 3s 34ms/step - loss: 3.9750e-04\n",
      "Epoch 36/60\n",
      "79/79 [==============================] - 3s 34ms/step - loss: 4.2295e-04\n",
      "Epoch 37/60\n",
      "79/79 [==============================] - 3s 34ms/step - loss: 4.4008e-04\n",
      "Epoch 38/60\n",
      "79/79 [==============================] - 3s 34ms/step - loss: 4.2302e-04\n",
      "Epoch 39/60\n",
      "79/79 [==============================] - 3s 34ms/step - loss: 4.8905e-04\n",
      "Epoch 40/60\n",
      "79/79 [==============================] - 3s 35ms/step - loss: 3.6267e-04\n",
      "Epoch 41/60\n",
      "79/79 [==============================] - 3s 34ms/step - loss: 3.7223e-04\n",
      "Epoch 42/60\n",
      "79/79 [==============================] - 3s 34ms/step - loss: 3.5877e-04\n",
      "Epoch 43/60\n",
      "79/79 [==============================] - 3s 34ms/step - loss: 4.0932e-04\n",
      "Epoch 44/60\n",
      "79/79 [==============================] - 3s 34ms/step - loss: 3.3985e-04\n",
      "Epoch 45/60\n",
      "79/79 [==============================] - 3s 34ms/step - loss: 7.7773e-04\n",
      "Epoch 46/60\n",
      "79/79 [==============================] - 3s 35ms/step - loss: 3.3635e-04\n",
      "Epoch 47/60\n",
      "79/79 [==============================] - 3s 34ms/step - loss: 5.9921e-04\n",
      "Epoch 48/60\n",
      "79/79 [==============================] - 3s 34ms/step - loss: 3.6972e-04\n",
      "Epoch 49/60\n",
      "79/79 [==============================] - 3s 35ms/step - loss: 4.1298e-04\n",
      "Epoch 50/60\n",
      "79/79 [==============================] - 3s 34ms/step - loss: 3.4853e-04\n",
      "Epoch 51/60\n",
      "79/79 [==============================] - 3s 35ms/step - loss: 4.2620e-04\n",
      "Epoch 52/60\n",
      "79/79 [==============================] - 3s 34ms/step - loss: 2.9852e-04\n",
      "Epoch 53/60\n",
      "79/79 [==============================] - 3s 34ms/step - loss: 3.3913e-04\n",
      "Epoch 54/60\n",
      "79/79 [==============================] - 3s 34ms/step - loss: 3.5854e-04\n",
      "Epoch 55/60\n",
      "79/79 [==============================] - 3s 34ms/step - loss: 2.9314e-04\n",
      "Epoch 56/60\n",
      "79/79 [==============================] - 3s 34ms/step - loss: 3.9407e-04\n",
      "Epoch 57/60\n",
      "79/79 [==============================] - 3s 35ms/step - loss: 3.5985e-04\n",
      "Epoch 58/60\n",
      "79/79 [==============================] - 3s 35ms/step - loss: 3.9209e-04\n",
      "Epoch 59/60\n",
      "79/79 [==============================] - 3s 34ms/step - loss: 4.3749e-04\n",
      "Epoch 60/60\n",
      "79/79 [==============================] - 3s 34ms/step - loss: 3.7840e-04\n"
     ]
    },
    {
     "data": {
      "text/plain": [
       "<keras.callbacks.History at 0x23424563340>"
      ]
     },
     "execution_count": 117,
     "metadata": {},
     "output_type": "execute_result"
    }
   ],
   "source": [
    "#model = load_model('model.h5')\n",
    "\n",
    "#构建模型\n",
    "#初始化模型\n",
    "model = Sequential()   #只有在第一层指定输入数据的shape时，模型才可以自动推断所有层的shape并build模型\n",
    "#\n",
    "#model.add(Reshape((TIME_PERIODS, num_sensors), input_shape=(input_shape,)))\n",
    "#CNN层\n",
    "#model.add(Conv1D(filters= 64, kernel_size= 1, activation= 'relu'))\n",
    "\n",
    "#model.add(Conv1D(10,1,activation='relu',input_shape=(x_train.shape[1],1)))\n",
    "\n",
    "#池化层\n",
    "#model.add(MaxPooling1D())\n",
    "\n",
    "#model.add(MaxPooling1D(1))\n",
    "\n",
    "#Dropout层\n",
    "#model.add(Dropout(.1))\n",
    "\n",
    "'''\n",
    "model.add(Conv1D(100, 10, activation='relu', input_shape=(TIME_PERIODS, num_sensors)))\n",
    "model.add(Conv1D(100, 10, activation='relu'))\n",
    "model.add(MaxPooling1D(3))\n",
    "model.add(Conv1D(160, 10, activation='relu'))\n",
    "model.add(Conv1D(160, 10, activation='relu'))\n",
    "model.add(GlobalAveragePooling1D())\n",
    "model.add(Dropout(0.5))\n",
    "model.add(Dense(num_classes, activation='softmax'))\n",
    "'''\n",
    "#LSTM层\n",
    "\n",
    "#model.add(LSTM(units=100, return_sequences=True,input_shape=(x_train.shape[1],1)))\n",
    "model.add(LSTM(units=100, return_sequences=False,input_shape=(x_train.shape[1],1)))\n",
    "\n",
    "#Dropout层\n",
    "#model.add(Dropout(.1))\n",
    "#LSTM层\n",
    "#model.add(LSTM(units=50, return_sequences=True))\n",
    "#LSTM层\n",
    "\n",
    "#model.add(LSTM(units=100, return_sequences=False))\n",
    "\n",
    "#Dropout层\n",
    "model.add(Dropout(.1))\n",
    "#全连接层\n",
    "\n",
    "#model.add(Dense(units=1))\n",
    "\n",
    "#模型编译\n",
    "model.compile(optimizer='adam', loss='mean_squared_error')\n",
    "\n",
    "#模型结构\n",
    "model.summary()\n",
    "#print(model.summary())\n",
    "\n",
    "#拟合模型\n",
    "model.fit(x_train, y_train, batch_size=25, epochs=60)"
   ]
  },
  {
   "cell_type": "markdown",
   "metadata": {},
   "source": [
    "保存模型内容（重点是保存参数）"
   ]
  },
  {
   "cell_type": "code",
   "execution_count": 118,
   "metadata": {},
   "outputs": [],
   "source": [
    "model.save('model.h5')  #HDFS文件，pip install h5py,直接保存整个网络的参数和结构\n",
    "\n",
    "#保存模型的参数,载入参数\n",
    "#model.save_weights('my_model_weights.h5')\n",
    "#model.load_weights('my_model_weights.h5')\n",
    "\n",
    "#保存模型的结构，载入网络结构\n",
    "#from keras.models import model_from_json\n",
    "#json_string = model.to_json()\n",
    "#model = model_from_json(json_string)"
   ]
  },
  {
   "cell_type": "markdown",
   "metadata": {},
   "source": [
    "开始预测"
   ]
  },
  {
   "cell_type": "code",
   "execution_count": 119,
   "metadata": {},
   "outputs": [
    {
     "name": "stdout",
     "output_type": "stream",
     "text": [
      "16/16 [==============================] - 1s 14ms/step\n"
     ]
    }
   ],
   "source": [
    "#预测\n",
    "predictions = model.predict(x_test) \n",
    "#还原 特征缩放\n",
    "predictions = scaler.inverse_transform(predictions)"
   ]
  },
  {
   "attachments": {},
   "cell_type": "markdown",
   "metadata": {},
   "source": [
    "计算AE、MAE、RMSE"
   ]
  },
  {
   "cell_type": "code",
   "execution_count": 120,
   "metadata": {},
   "outputs": [
    {
     "name": "stdout",
     "output_type": "stream",
     "text": [
      "预测寿命为 2012 实际寿命为 1844 AE= 168 MAE= 0.10760166007265659 % RMSE= 0.12722234080812655 %\n"
     ]
    }
   ],
   "source": [
    "predictions_fail = 0\n",
    "actual_fail = 0\n",
    "for i in range(len(predictions)):\n",
    "    if predictions[i][0] <=1.4:\n",
    "        predictions_fail = i+1+len(dataset)-len(predictions)\n",
    "        break\n",
    "for i in range(len(dataset)):\n",
    "    if dataset[i][0] <=1.4:\n",
    "        actual_fail= i+1\n",
    "        break\n",
    "  \n",
    "ae = predictions_fail-actual_fail\n",
    "mae = np.mean(np.abs(y_test - predictions))*100\n",
    "rmse = np.sqrt(np.mean((y_test - predictions) ** 2))*100\n",
    "print('预测寿命为',predictions_fail,'实际寿命为',actual_fail,'AE=',ae,'MAE=',mae,'%','RMSE=',rmse,'%')\n",
    "#predictions=predictions.tolist()\n",
    "#pre=[]\n",
    "#for i in len(predictions):\n",
    "#Spredictions=pd.DataFrame(predictions)\n",
    "#print(predictions)\n",
    "#train = data[:training_data_len]\n",
    "#valid = data[training_data_len:]\n",
    "#type(valid)\n",
    "#type(train)"
   ]
  },
  {
   "attachments": {},
   "cell_type": "markdown",
   "metadata": {},
   "source": [
    "作图"
   ]
  },
  {
   "cell_type": "code",
   "execution_count": 121,
   "metadata": {},
   "outputs": [
    {
     "name": "stdout",
     "output_type": "stream",
     "text": [
      "rongliang    0.001076\n",
      "dtype: float64\n",
      "rongliang    0.001272\n",
      "dtype: float64\n",
      "      rongliang  Predictions\n",
      "2011   1.369690     1.372383\n",
      "2012   1.368884     1.371563\n",
      "2013   1.368097     1.370770\n",
      "2014   1.367329     1.370003\n",
      "2015   1.366582     1.369257\n",
      "...         ...          ...\n",
      "2508   1.324085     1.323843\n",
      "2509   1.324230     1.324172\n",
      "2510   1.324278     1.324413\n",
      "2511   1.324230     1.324563\n",
      "2512   1.324091     1.324620\n",
      "\n",
      "[502 rows x 2 columns]\n"
     ]
    },
    {
     "name": "stderr",
     "output_type": "stream",
     "text": [
      "C:\\Users\\parkour\\AppData\\Local\\Temp/ipykernel_79760/182608765.py:14: SettingWithCopyWarning: \n",
      "A value is trying to be set on a copy of a slice from a DataFrame.\n",
      "Try using .loc[row_indexer,col_indexer] = value instead\n",
      "\n",
      "See the caveats in the documentation: https://pandas.pydata.org/pandas-docs/stable/user_guide/indexing.html#returning-a-view-versus-a-copy\n",
      "  valid['Predictions'] = predictions\n"
     ]
    },
    {
     "data": {
      "image/png": "[encoded data removed]",
      "text/plain": [
       "<Figure size 1152x576 with 1 Axes>"
      ]
     },
     "metadata": {
      "needs_background": "light"
     },
     "output_type": "display_data"
    },
    {
     "data": {
      "text/plain": [
       "([], [])"
      ]
     },
     "execution_count": 121,
     "metadata": {},
     "output_type": "execute_result"
    },
    {
     "data": {
      "image/png": "[encoded data removed]",
      "text/plain": [
       "<Figure size 432x288 with 1 Axes>"
      ]
     },
     "metadata": {
      "needs_background": "light"
     },
     "output_type": "display_data"
    }
   ],
   "source": [
    "#创建用来画图的dataframe\n",
    "train = data[:training_data_len+1]    #为了让输出的曲线相连，所以+1\n",
    "valid = data[training_data_len:]\n",
    "mae = np.sum(np.absolute(valid - predictions)) / len(valid)\n",
    "#mse = np.mean(np.power((valid - predictions),2))\n",
    "rmse = np.sqrt(np.mean(np.power((valid - predictions),2)))\n",
    "print(mae)\n",
    "print(rmse)\n",
    "\n",
    "#predictions.head()    #取数据的前n行数据，默认是5行\n",
    "\n",
    "#给valid添加新的一列，把预测值predictions赋值给新的一列\n",
    "#valid['Predictions'] = predictions.values\n",
    "valid['Predictions'] = predictions\n",
    "print(valid)\n",
    "#开始作图\n",
    "#图像大小\n",
    "plt.figure(figsize=(16,8))\n",
    "#x轴\n",
    "plt.xlabel('times', fontsize=18)\n",
    "#y轴\n",
    "plt.ylabel('Capacity', fontsize=18)\n",
    "#画训练集的折线图\n",
    "#plt.plot(train['收盘'])\n",
    "plt.plot(train)\n",
    "#分别画出真实值和预测值的折线图\n",
    "#plt.plot(valid[['收盘', 'Predictions']])\n",
    "plt.plot(valid[['rongliang', 'Predictions']])\n",
    "#画出阈值线\n",
    "plt.axhline(y=1.4,linestyle='--')\n",
    "plt.plot(actual_fail-1,1.4,marker='*',markersize=5)\n",
    "plt.plot(predictions_fail-1,1.4,marker='o',markersize=5)\n",
    "#展示图例\n",
    "plt.legend(['train', 'test', 'predict','threshold','actual RUL','predicted RUL'],fontsize=15)\n",
    "plt.show()\n",
    "\n",
    "plt.figure()\n",
    "#plt.plot(data[\"收盘\"])\n",
    "plt.plot(data)\n",
    "plt.xticks([])"
   ]
  }
 ],
 "metadata": {
  "kernelspec": {
   "display_name": "Python 3.9.5 64-bit",
   "language": "python",
   "name": "python3"
  },
  "language_info": {
   "codemirror_mode": {
    "name": "ipython",
    "version": 3
   },
   "file_extension": ".py",
   "mimetype": "text/x-python",
   "name": "python",
   "nbconvert_exporter": "python",
   "pygments_lexer": "ipython3",
   "version": "3.9.5 (tags/v3.9.5:0a7dcbd, May  3 2021, 17:27:52) [MSC v.1928 64 bit (AMD64)]"
  },
  "orig_nbformat": 4,
  "vscode": {
   "interpreter": {
    "hash": "b9a39840f0d575a564368bda2239d3089fea44a17c2f914f9ecff33c57a91553"
   }
  }
 },
 "nbformat": 4,
 "nbformat_minor": 2
}
