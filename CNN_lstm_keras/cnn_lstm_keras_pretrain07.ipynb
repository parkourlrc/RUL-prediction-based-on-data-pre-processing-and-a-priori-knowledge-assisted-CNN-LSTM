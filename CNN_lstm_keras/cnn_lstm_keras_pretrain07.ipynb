{
 "cells": [
  {
   "cell_type": "code",
   "execution_count": 1,
   "metadata": {},
   "outputs": [],
   "source": [
    "import missingno as msno\n",
    "import pandas as pd\n",
    "import math\n",
    "from sklearn.preprocessing import MinMaxScaler\n",
    "import numpy as np\n",
    "import tensorflow as tf\n",
    "from tensorflow import keras\n",
    "import matplotlib.pyplot as plt\n",
    "from keras.models import Sequential,load_model\n",
    "from keras.layers import Dense, Dropout, LSTM, Conv1D, GlobalAveragePooling1D, MaxPooling1D"
   ]
  },
  {
   "cell_type": "markdown",
   "metadata": {},
   "source": [
    "导入数据集+选择处理所用数据（选择我们使用数据的哪一列）+构建训练集、测试集(预训练时，百分之  的数据作为训练集；实际预测时，百分之  的数据用作训练集（很小的量，符合工程实际）)"
   ]
  },
  {
   "cell_type": "code",
   "execution_count": 2,
   "metadata": {},
   "outputs": [
    {
     "name": "stdout",
     "output_type": "stream",
     "text": [
      "   rongliang\n",
      "0   1.855005\n",
      "1   1.843196\n",
      "2   1.843196\n",
      "3   1.839602\n",
      "4   1.839602\n",
      "5   1.830674\n"
     ]
    },
    {
     "data": {
      "image/png": "[encoded data removed]",
      "text/plain": [
       "<Figure size 432x288 with 1 Axes>"
      ]
     },
     "metadata": {
      "needs_background": "light"
     },
     "output_type": "display_data"
    },
    {
     "data": {
      "text/plain": [
       "(140, 1)"
      ]
     },
     "execution_count": 2,
     "metadata": {},
     "output_type": "execute_result"
    },
    {
     "data": {
      "image/png": "[encoded data removed]",
      "text/plain": [
       "<Figure size 1800x720 with 2 Axes>"
      ]
     },
     "metadata": {
      "needs_background": "light"
     },
     "output_type": "display_data"
    }
   ],
   "source": [
    "#df = pd.read_csv(\"B18rongliang.csv\", index_col='日期')\n",
    "df=pd.read_excel(\"./汇总/IMF1到RES/B07.xls\")\n",
    "print(df.head(6))   #输出前六行的内容\n",
    "plt.plot(df)\n",
    "plt.show()\n",
    "\n",
    "msno.matrix(df)\n",
    "\n",
    "data = df.sort_index(ascending=True, axis=0)\n",
    "##只使用股票的收盘价来进行拟合和预测\n",
    "#dataset=data[['rongliang']].values\n",
    "dataset=data.values\n",
    "\n",
    "data.head()\n",
    "data.shape\n",
    "dataset.shape\n",
    "\n",
    "                                                                                    #\n",
    "#取80%的数据作为训练集\n",
    "training_data_len=math.ceil(len(dataset)*.8)\n",
    "train_data=dataset[0:training_data_len,:]\n",
    "#取剩下的数据作为测试集\n",
    "#在做预测时，余下的数据的第一个数据，需要前60*200轮的数据来预测，因此这倒溯了60*200天\n",
    "test_data = dataset[training_data_len-60: , : ]\n",
    "                                                                                    #\n",
    "\n",
    "scaler = MinMaxScaler(feature_range=(0,1))\n",
    "scaled_train = scaler.fit_transform(train_data)\n",
    "scaled_test = scaler.fit_transform(test_data)\n",
    "scaled_train\n",
    "scaled_test.shape\n",
    "scaled_train.shape"
   ]
  },
  {
   "cell_type": "markdown",
   "metadata": {},
   "source": [
    "训练集、测试集的重构"
   ]
  },
  {
   "cell_type": "code",
   "execution_count": 3,
   "metadata": {},
   "outputs": [],
   "source": [
    "#训练集的重构\n",
    "#1 分离x和y\n",
    "x_train=[]\n",
    "y_train=[]\n",
    "                                                                        #\n",
    "#for i in range(60,len(scaled_train)-10):\n",
    "#    x_train.append(scaled_train[i-60:i,0])\n",
    "#    y_train.append(scaled_train[i+10,0])\n",
    "for i in range(60,len(scaled_train)):\n",
    "    x_train.append(scaled_train[i-60:i,0])\n",
    "    y_train.append(scaled_train[i,0])\n",
    "                                                                        #\n",
    "#2 将list类型数据转变成array数据\n",
    "x_train,y_train=np.array(x_train),np.array(y_train)\n",
    "\n",
    "#3 将二维数据变成三维数据\n",
    "x_train=np.reshape(x_train,(x_train.shape[0],x_train.shape[1],1))\n",
    "\n",
    "x_train.shape\n",
    "\n",
    "#测试集的重构\n",
    "#1 分离x和y\n",
    "x_test = []\n",
    "                                                                        #\n",
    "#y_test = dataset[training_data_len+10: , : ] \n",
    "#for i in range(60,len(scaled_test)-10):\n",
    "#    x_test.append(scaled_test[i-60:i,0])\n",
    "y_test = dataset[training_data_len: , : ] \n",
    "for i in range(60,len(scaled_test)):\n",
    "    x_test.append(scaled_test[i-60:i,0])\n",
    "                                                                        #\n",
    "#2 将list类型数据转变成array数据\n",
    "x_test = np.array(x_test)\n",
    "#3 将二维数据变成三维数据\n",
    "x_test = np.reshape(x_test, (x_test.shape[0],x_test.shape[1],1))\n",
    "\n",
    "x_test.shape\n",
    "\n",
    "model = tf.keras.models.Sequential()"
   ]
  },
  {
   "cell_type": "markdown",
   "metadata": {},
   "source": [
    "构建模型"
   ]
  },
  {
   "cell_type": "code",
   "execution_count": 5,
   "metadata": {},
   "outputs": [
    {
     "name": "stdout",
     "output_type": "stream",
     "text": [
      "Epoch 1/60\n",
      "4/4 [==============================] - 5s 24ms/step - loss: 0.0046\n",
      "Epoch 2/60\n",
      "4/4 [==============================] - 0s 26ms/step - loss: 0.0058\n",
      "Epoch 3/60\n",
      "4/4 [==============================] - 0s 28ms/step - loss: 0.0058\n",
      "Epoch 4/60\n",
      "4/4 [==============================] - 0s 23ms/step - loss: 0.0058\n",
      "Epoch 5/60\n",
      "4/4 [==============================] - 0s 23ms/step - loss: 0.0053\n",
      "Epoch 6/60\n",
      "4/4 [==============================] - 0s 25ms/step - loss: 0.0067\n",
      "Epoch 7/60\n",
      "4/4 [==============================] - 0s 29ms/step - loss: 0.0061\n",
      "Epoch 8/60\n",
      "4/4 [==============================] - 0s 26ms/step - loss: 0.0083\n",
      "Epoch 9/60\n",
      "4/4 [==============================] - 0s 26ms/step - loss: 0.0080\n",
      "Epoch 10/60\n",
      "4/4 [==============================] - 0s 28ms/step - loss: 0.0075\n",
      "Epoch 11/60\n",
      "4/4 [==============================] - 0s 26ms/step - loss: 0.0079\n",
      "Epoch 12/60\n",
      "4/4 [==============================] - 0s 26ms/step - loss: 0.0056\n",
      "Epoch 13/60\n",
      "4/4 [==============================] - 0s 26ms/step - loss: 0.0059\n",
      "Epoch 14/60\n",
      "4/4 [==============================] - 0s 26ms/step - loss: 0.0065\n",
      "Epoch 15/60\n",
      "4/4 [==============================] - 0s 25ms/step - loss: 0.0048\n",
      "Epoch 16/60\n",
      "4/4 [==============================] - 0s 26ms/step - loss: 0.0049\n",
      "Epoch 17/60\n",
      "4/4 [==============================] - 0s 23ms/step - loss: 0.0050\n",
      "Epoch 18/60\n",
      "4/4 [==============================] - 0s 27ms/step - loss: 0.0052\n",
      "Epoch 19/60\n",
      "4/4 [==============================] - 0s 25ms/step - loss: 0.0065\n",
      "Epoch 20/60\n",
      "4/4 [==============================] - 0s 26ms/step - loss: 0.0065\n",
      "Epoch 21/60\n",
      "4/4 [==============================] - 0s 25ms/step - loss: 0.0060\n",
      "Epoch 22/60\n",
      "4/4 [==============================] - 0s 28ms/step - loss: 0.0066\n",
      "Epoch 23/60\n",
      "4/4 [==============================] - 0s 26ms/step - loss: 0.0040\n",
      "Epoch 24/60\n",
      "4/4 [==============================] - 0s 25ms/step - loss: 0.0066\n",
      "Epoch 25/60\n",
      "4/4 [==============================] - 0s 23ms/step - loss: 0.0052\n",
      "Epoch 26/60\n",
      "4/4 [==============================] - 0s 25ms/step - loss: 0.0059\n",
      "Epoch 27/60\n",
      "4/4 [==============================] - 0s 25ms/step - loss: 0.0052\n",
      "Epoch 28/60\n",
      "4/4 [==============================] - 0s 29ms/step - loss: 0.0062\n",
      "Epoch 29/60\n",
      "4/4 [==============================] - 0s 28ms/step - loss: 0.0058\n",
      "Epoch 30/60\n",
      "4/4 [==============================] - 0s 26ms/step - loss: 0.0057\n",
      "Epoch 31/60\n",
      "4/4 [==============================] - 0s 32ms/step - loss: 0.0052\n",
      "Epoch 32/60\n",
      "4/4 [==============================] - 0s 23ms/step - loss: 0.0047\n",
      "Epoch 33/60\n",
      "4/4 [==============================] - 0s 26ms/step - loss: 0.0061\n",
      "Epoch 34/60\n",
      "4/4 [==============================] - 0s 26ms/step - loss: 0.0048\n",
      "Epoch 35/60\n",
      "4/4 [==============================] - 0s 25ms/step - loss: 0.0073\n",
      "Epoch 36/60\n",
      "4/4 [==============================] - 0s 22ms/step - loss: 0.0058\n",
      "Epoch 37/60\n",
      "4/4 [==============================] - 0s 25ms/step - loss: 0.0050\n",
      "Epoch 38/60\n",
      "4/4 [==============================] - 0s 23ms/step - loss: 0.0048\n",
      "Epoch 39/60\n",
      "4/4 [==============================] - 0s 24ms/step - loss: 0.0044\n",
      "Epoch 40/60\n",
      "4/4 [==============================] - 0s 23ms/step - loss: 0.0062\n",
      "Epoch 41/60\n",
      "4/4 [==============================] - 0s 26ms/step - loss: 0.0045\n",
      "Epoch 42/60\n",
      "4/4 [==============================] - 0s 25ms/step - loss: 0.0056\n",
      "Epoch 43/60\n",
      "4/4 [==============================] - 0s 27ms/step - loss: 0.0055\n",
      "Epoch 44/60\n",
      "4/4 [==============================] - 0s 23ms/step - loss: 0.0049\n",
      "Epoch 45/60\n",
      "4/4 [==============================] - 0s 25ms/step - loss: 0.0051\n",
      "Epoch 46/60\n",
      "4/4 [==============================] - 0s 29ms/step - loss: 0.0063\n",
      "Epoch 47/60\n",
      "4/4 [==============================] - 0s 25ms/step - loss: 0.0047\n",
      "Epoch 48/60\n",
      "4/4 [==============================] - 0s 23ms/step - loss: 0.0053\n",
      "Epoch 49/60\n",
      "4/4 [==============================] - 0s 23ms/step - loss: 0.0066\n",
      "Epoch 50/60\n",
      "4/4 [==============================] - 0s 23ms/step - loss: 0.0051\n",
      "Epoch 51/60\n",
      "4/4 [==============================] - 0s 31ms/step - loss: 0.0059\n",
      "Epoch 52/60\n",
      "4/4 [==============================] - 0s 25ms/step - loss: 0.0051\n",
      "Epoch 53/60\n",
      "4/4 [==============================] - 0s 24ms/step - loss: 0.0060\n",
      "Epoch 54/60\n",
      "4/4 [==============================] - 0s 26ms/step - loss: 0.0040\n",
      "Epoch 55/60\n",
      "4/4 [==============================] - 0s 23ms/step - loss: 0.0037\n",
      "Epoch 56/60\n",
      "4/4 [==============================] - 0s 23ms/step - loss: 0.0044\n",
      "Epoch 57/60\n",
      "4/4 [==============================] - 0s 25ms/step - loss: 0.0054\n",
      "Epoch 58/60\n",
      "4/4 [==============================] - 0s 29ms/step - loss: 0.0051\n",
      "Epoch 59/60\n",
      "4/4 [==============================] - 0s 25ms/step - loss: 0.0071\n",
      "Epoch 60/60\n",
      "4/4 [==============================] - 0s 25ms/step - loss: 0.0045\n"
     ]
    },
    {
     "data": {
      "text/plain": [
       "<keras.callbacks.History at 0x2462e3dac10>"
      ]
     },
     "execution_count": 5,
     "metadata": {},
     "output_type": "execute_result"
    }
   ],
   "source": [
    "#载入模型\n",
    "model = load_model('model.h5')\n",
    "\n",
    "#拟合模型\n",
    "model.fit(x_train, y_train, batch_size=25, epochs=60)"
   ]
  },
  {
   "attachments": {},
   "cell_type": "markdown",
   "metadata": {},
   "source": [
    "保存模型内容（重点是保存参数）"
   ]
  },
  {
   "cell_type": "code",
   "execution_count": null,
   "metadata": {},
   "outputs": [],
   "source": [
    "model.save('model.h5')  #HDFS文件，pip install h5py,直接保存整个网络的参数和结构\n"
   ]
  },
  {
   "cell_type": "markdown",
   "metadata": {},
   "source": [
    "开始预测"
   ]
  },
  {
   "cell_type": "code",
   "execution_count": 6,
   "metadata": {},
   "outputs": [
    {
     "name": "stdout",
     "output_type": "stream",
     "text": [
      "2/2 [==============================] - 1s 5ms/step\n"
     ]
    }
   ],
   "source": [
    "#预测\n",
    "predictions = model.predict(x_test) \n",
    "#还原 特征缩放\n",
    "predictions = scaler.inverse_transform(predictions)"
   ]
  },
  {
   "attachments": {},
   "cell_type": "markdown",
   "metadata": {},
   "source": [
    "计算AE、MAE、RMSE"
   ]
  },
  {
   "cell_type": "code",
   "execution_count": 7,
   "metadata": {},
   "outputs": [
    {
     "name": "stdout",
     "output_type": "stream",
     "text": [
      "[[1.400722 ]\n",
      " [1.396227 ]\n",
      " [1.3913729]\n",
      " [1.3869475]\n",
      " [1.3826826]\n",
      " [1.3781939]\n",
      " [1.3738791]\n",
      " [1.3774031]\n",
      " [1.3839227]\n",
      " [1.3905529]\n",
      " [1.395838 ]\n",
      " [1.3987926]\n",
      " [1.400145 ]\n",
      " [1.39933  ]\n",
      " [1.3971707]\n",
      " [1.3940568]\n",
      " [1.390403 ]\n",
      " [1.386935 ]\n",
      " [1.3829669]\n",
      " [1.3782768]\n",
      " [1.373238 ]\n",
      " [1.3684446]\n",
      " [1.369027 ]\n",
      " [1.3723519]\n",
      " [1.3753337]\n",
      " [1.3769463]\n",
      " [1.3772898]\n",
      " [1.3756285]\n",
      " [1.3737545]\n",
      " [1.3711194]\n",
      " [1.3679047]\n",
      " [1.3647171]\n",
      " [1.3614905]\n",
      " [1.3585305]]\n"
     ]
    }
   ],
   "source": [
    "predictions_fail = 0\n",
    "actual_fail = 0\n",
    "for i in range(len(predictions)):\n",
    "    if predictions[i][0] <=1.45:\n",
    "        predictions_fail = i+1+len(dataset)-len(predictions)\n",
    "        break\n",
    "for i in range(len(dataset)):\n",
    "    if dataset[i][0] <=1.45:\n",
    "        actual_fail= i+1\n",
    "        break\n",
    "  \n",
    "ae = predictions_fail-actual_fail\n",
    "mae = np.mean(np.abs(y_test - predictions))*100\n",
    "rmse = np.sqrt(np.mean((y_test - predictions) ** 2))*100\n",
    "print('预测寿命为',predictions_fail,'实际寿命为',actual_fail,'AE=',ae,'MAE=',mae,'%','RMSE=',rmse,'%')\n",
    "#predictions=predictions.tolist()\n",
    "#pre=[]\n",
    "#for i in len(predictions):\n",
    "#Spredictions=pd.DataFrame(predictions)\n",
    "#print(predictions)\n",
    "#train = data[:training_data_len]\n",
    "#valid = data[training_data_len:]\n",
    "#type(valid)\n",
    "#type(train)"
   ]
  },
  {
   "attachments": {},
   "cell_type": "markdown",
   "metadata": {},
   "source": [
    "作图"
   ]
  },
  {
   "cell_type": "code",
   "execution_count": 8,
   "metadata": {},
   "outputs": [
    {
     "name": "stdout",
     "output_type": "stream",
     "text": [
      "rongliang    0.022215\n",
      "dtype: float64\n",
      "rongliang    0.03031\n",
      "dtype: float64\n",
      "     rongliang  Predictions\n",
      "140   1.384901     1.400722\n",
      "141   1.370325     1.396227\n",
      "142   1.373346     1.391373\n",
      "143   1.367949     1.386948\n",
      "144   1.356714     1.382683\n",
      "145   1.356714     1.378194\n",
      "146   1.460431     1.373879\n",
      "147   1.450100     1.377403\n",
      "148   1.438141     1.383923\n",
      "149   1.428368     1.390553\n",
      "150   1.414787     1.395838\n",
      "151   1.413889     1.398793\n",
      "152   1.398933     1.400145\n",
      "153   1.395332     1.399330\n",
      "154   1.390046     1.397171\n",
      "155   1.386027     1.394057\n",
      "156   1.388215     1.390403\n",
      "157   1.376183     1.386935\n",
      "158   1.364717     1.382967\n",
      "159   1.358985     1.378277\n",
      "160   1.346231     1.373238\n",
      "161   1.426843     1.368445\n",
      "162   1.426843     1.369027\n",
      "163   1.406448     1.372352\n",
      "164   1.393491     1.375334\n",
      "165   1.388249     1.376946\n",
      "166   1.370188     1.377290\n",
      "167   1.379695     1.375628\n",
      "168   1.368659     1.373755\n",
      "169   1.362737     1.371119\n",
      "170   1.363405     1.367905\n",
      "171   1.351865     1.364717\n",
      "172   1.354797     1.361490\n",
      "173   1.341051     1.358531\n"
     ]
    },
    {
     "name": "stderr",
     "output_type": "stream",
     "text": [
      "C:\\Users\\parkour\\AppData\\Local\\Temp/ipykernel_102720/2863003791.py:14: SettingWithCopyWarning: \n",
      "A value is trying to be set on a copy of a slice from a DataFrame.\n",
      "Try using .loc[row_indexer,col_indexer] = value instead\n",
      "\n",
      "See the caveats in the documentation: https://pandas.pydata.org/pandas-docs/stable/user_guide/indexing.html#returning-a-view-versus-a-copy\n",
      "  valid['Predictions'] = predictions\n"
     ]
    },
    {
     "data": {
      "image/png": "[encoded data removed]",
      "text/plain": [
       "<Figure size 1152x576 with 1 Axes>"
      ]
     },
     "metadata": {
      "needs_background": "light"
     },
     "output_type": "display_data"
    },
    {
     "data": {
      "text/plain": [
       "([], [])"
      ]
     },
     "execution_count": 8,
     "metadata": {},
     "output_type": "execute_result"
    },
    {
     "data": {
      "image/png": "[encoded data removed]",
      "text/plain": [
       "<Figure size 432x288 with 1 Axes>"
      ]
     },
     "metadata": {
      "needs_background": "light"
     },
     "output_type": "display_data"
    }
   ],
   "source": [
    "#创建用来画图的dataframe\n",
    "train = data[:training_data_len+1]    #为了让输出的曲线相连，所以+1\n",
    "valid = data[training_data_len:]\n",
    "mae = np.sum(np.absolute(valid - predictions)) / len(valid)\n",
    "#mse = np.mean(np.power((valid - predictions),2))\n",
    "rmse = np.sqrt(np.mean(np.power((valid - predictions),2)))\n",
    "print(mae)\n",
    "print(rmse)\n",
    "\n",
    "#predictions.head()    #取数据的前n行数据，默认是5行\n",
    "\n",
    "#给valid添加新的一列，把预测值predictions赋值给新的一列\n",
    "#valid['Predictions'] = predictions.values\n",
    "valid['Predictions'] = predictions\n",
    "print(valid)\n",
    "#开始作图\n",
    "#图像大小\n",
    "plt.figure(figsize=(16,8))\n",
    "#x轴\n",
    "plt.xlabel('times', fontsize=18)\n",
    "#y轴\n",
    "plt.ylabel('Capacity', fontsize=18)\n",
    "#画训练集的折线图\n",
    "#plt.plot(train['收盘'])\n",
    "plt.plot(train)\n",
    "#分别画出真实值和预测值的折线图\n",
    "#plt.plot(valid[['收盘', 'Predictions']])\n",
    "plt.plot(valid[['rongliang', 'Predictions']])\n",
    "#画出阈值线\n",
    "plt.axhline(y=1.45,linestyle='--')\n",
    "plt.plot(actual_fail-1,1.45,marker='*',markersize=5)\n",
    "plt.plot(predictions_fail-1,1.45,marker='o',markersize=5)\n",
    "#展示图例\n",
    "plt.legend(['train', 'test', 'predict','threshold','actual RUL','predicted RUL'],fontsize=15)\n",
    "plt.show()\n",
    "\n",
    "plt.figure()\n",
    "#plt.plot(data[\"收盘\"])\n",
    "plt.plot(data)\n",
    "plt.xticks([])"
   ]
  }
 ],
 "metadata": {
  "kernelspec": {
   "display_name": "Python 3.9.5 64-bit",
   "language": "python",
   "name": "python3"
  },
  "language_info": {
   "codemirror_mode": {
    "name": "ipython",
    "version": 3
   },
   "file_extension": ".py",
   "mimetype": "text/x-python",
   "name": "python",
   "nbconvert_exporter": "python",
   "pygments_lexer": "ipython3",
   "version": "3.9.5 (tags/v3.9.5:0a7dcbd, May  3 2021, 17:27:52) [MSC v.1928 64 bit (AMD64)]"
  },
  "orig_nbformat": 4,
  "vscode": {
   "interpreter": {
    "hash": "b9a39840f0d575a564368bda2239d3089fea44a17c2f914f9ecff33c57a91553"
   }
  }
 },
 "nbformat": 4,
 "nbformat_minor": 2
}
